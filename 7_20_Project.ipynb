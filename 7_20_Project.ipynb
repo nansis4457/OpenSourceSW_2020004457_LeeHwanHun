{
  "nbformat": 4,
  "nbformat_minor": 0,
  "metadata": {
    "colab": {
      "provenance": [],
      "authorship_tag": "ABX9TyNuuuxGY6dYiTFj7n9KVDMc",
      "include_colab_link": true
    },
    "kernelspec": {
      "name": "python3",
      "display_name": "Python 3"
    },
    "language_info": {
      "name": "python"
    }
  },
  "cells": [
    {
      "cell_type": "markdown",
      "metadata": {
        "id": "view-in-github",
        "colab_type": "text"
      },
      "source": [
        "<a href=\"https://colab.research.google.com/github/nansis4457/OpenSourceSW_2020004457_LeeHwanHun/blob/main/7_20_Project.ipynb\" target=\"_parent\"><img src=\"https://colab.research.google.com/assets/colab-badge.svg\" alt=\"Open In Colab\"/></a>"
      ]
    },
    {
      "cell_type": "markdown",
      "source": [
        "<h1>Day 1</h1>\n",
        "\n",
        "series = 1차원 배열(=딕셔너리) / dataframe = 2차원 배열 (행:열)\n",
        "<br><br>\n",
        "index : value\n",
        "\n",
        "*   시리즈 변환 / 데이터프레임 변환 -> pd.Series(data, index = [ ])\n",
        "   / pd.DataFrame(2차원 배열, index = [ ], columns = [ ])\n",
        "\n",
        "*   여러개의 인덱스를 대괄호 [ ]에 입력 시 원소 데이터 모두 반환\n",
        "\n",
        "*   자료형 출력시 type()\n",
        "*  행 인덱스, 열 이름 설정 시 ->  df.index = ['  '] / df.columns = [' ']\n",
        "* 행 인덱스, 열 이름  변경 시 -> df.rename(index ={딕셔너리}, inplace = True/False)<br>  / <- inplace는 원본 객체 변경 여부\n",
        " df.rename(columns={딕셔너리}, inplace = True/False)\n",
        "*  행 인덱스, 열 이름  삭제 시 -> df.drop(행 인덱스 또는 배열, axis=0)/\n",
        "<br>  / <- inplace는 원본 객체 변경 여부\n",
        " df.drop(열 이름 또는 배열, axis=1) <- axis(0 -> 행 // 1 -> 열)\n",
        "\n"
      ],
      "metadata": {
        "id": "cYvxIgccLYau"
      }
    },
    {
      "cell_type": "markdown",
      "source": [
        "<b>2. 선택</b> + 슬라이싱 기법\n",
        "<h3><행 선택></h3>\n",
        "*   행 선택 시 -> loc(인덱스 이름) / iloc(정수형 위치 인덱스) <br>\n",
        "ex) df.loc['공기', '바람'] , df.iloc[[0, 2]]\n",
        "*   슬라이싱 기법 -> df.loc['공기': '바람']  &nbsp; != &nbsp;  df.iloc[0: 1]\n",
        "\n",
        "\n",
        "-----------\n",
        "\n",
        "<h3><열 선택></h3>\n",
        "*   열 선택 시 df['열 이름']  = df.열이름 (단, 열이름이 문자열일 경우 가능)\n",
        "*   열 n개 선택 -> df[ [ 열1,열2 ... 열n ] ]\n",
        "*   df['수학'] -> 시리즈로 반환 // df[['수학']] -> 데이터 프레임으로 반환\n",
        "*   범위 슬라이싱: df.iloc[시작 인덱스 :  끝 인덱스 : 슬라이싱 간격] <br>\n",
        "-----------\n",
        "\n",
        "<h3><원소 선택></h3>\n",
        "\n",
        "*   df.loc[행 인덱스, 열 이름] or df.iloc[행 번호, 열 번호]\n",
        "<br> 이를 활용한 연습이 필요. <br> ex)  df.loc['서준', ['음악', '체육']]  ==  df.iloc[0, [2, 3]]  ==   df.loc['서준', '음악':'체육']"
      ],
      "metadata": {
        "id": "MWWDuG8ILrKP"
      }
    },
    {
      "cell_type": "markdown",
      "source": [
        "<h3>3. 추가 </h3>\n",
        "\n",
        "\n",
        "*   행 추가 -> df.loc['새로운 행 이름'] = 데이터 값\n",
        "*   열 추가 -> df[새로운 열 이름] = 원소 리스트\n",
        "\n",
        "\n",
        "*   행, 열 위치 바꾸기 -> df.transpose() or df.T\n",
        "\n",
        "\n",
        "\n"
      ],
      "metadata": {
        "id": "r2ZSO6UTaEP_"
      }
    },
    {
      "cell_type": "markdown",
      "source": [
        "<h3> 4. 인덱스 활용 </h3>\n",
        "\n",
        "\n",
        "*   특정 열을 행 인덱스로 설정 -> df.set_index ( ['이름'] )\n",
        "*   행 인덱스 재배열 -> df.reindex(새로운 인덱스 배열. fill_value= n) <-NaN을 유효한 값으로 대체\n",
        "\n",
        "\n",
        "*   행 인덱스 초기화 -> df.reset_index()\n",
        "*  행 인덱스를 기준으로 정렬 -> df.sort_index(ascending=True) 오름차순\n",
        "* 열의 데이터 값을 기준으로 정렬 -> df.sort_values(by='열이름', ascending=True)\n",
        "  \n",
        "\n",
        "\n"
      ],
      "metadata": {
        "id": "a_rLM69dbN7D"
      }
    },
    {
      "cell_type": "code",
      "execution_count": null,
      "metadata": {
        "colab": {
          "base_uri": "https://localhost:8080/"
        },
        "id": "TnS8DQgKZSa3",
        "outputId": "b65f8c49-26f6-4c55-f981-139e78cbe1b7"
      },
      "outputs": [
        {
          "output_type": "stream",
          "name": "stdout",
          "text": [
            "<class 'pandas.core.series.Series'>\n",
            "a    1\n",
            "b    2\n",
            "c    3\n",
            "dtype: int64\n"
          ]
        }
      ],
      "source": [
        "import pandas as pd #pandas -> series or DataFrame\n",
        "\n",
        "dict_data = {'a':1,'b':2, 'c':3}\n",
        "#dict -> series\n",
        "sr = pd.Series(dict_data)\n",
        "\n",
        "print(type(sr))\n",
        "# print('\\n')\n",
        "print(sr)"
      ]
    },
    {
      "cell_type": "code",
      "source": [
        "list_data = ['2019-01-02', 3.14, 'ABC', 100, True]\n",
        "sr_2 = pd.Series(list_data)\n",
        "# print(sr_2)\n",
        "idx = sr_2.index\n",
        "val = sr_2.values\n",
        "print(idx)\n",
        "print('\\n')\n",
        "print(val)"
      ],
      "metadata": {
        "colab": {
          "base_uri": "https://localhost:8080/"
        },
        "id": "lJgDcgU0bmh1",
        "outputId": "544ed742-ce2c-4edf-ce73-f7308697b194"
      },
      "execution_count": null,
      "outputs": [
        {
          "output_type": "stream",
          "name": "stdout",
          "text": [
            "RangeIndex(start=0, stop=5, step=1)\n",
            "\n",
            "\n",
            "['2019-01-02' 3.14 'ABC' 100 True]\n"
          ]
        }
      ]
    },
    {
      "cell_type": "code",
      "source": [
        "tup_data = ('영인','2010-05-01', '여', True)\n",
        "sr = pd.Series(tup_data,index=['이름','생년월일','성별','학생여부'])\n",
        "# print(sr)\n",
        "# print(sr[[1,2]]) #  == print(sr[1:2])\n",
        "print(sr[['생년월일','성별']]) # == print(sr['생년월일':'성별'])\n"
      ],
      "metadata": {
        "colab": {
          "base_uri": "https://localhost:8080/"
        },
        "id": "b5y0vUwOc7di",
        "outputId": "1bb84387-f17d-4c0f-94ab-0b9eb63317e6"
      },
      "execution_count": null,
      "outputs": [
        {
          "output_type": "stream",
          "name": "stdout",
          "text": [
            "생년월일    2010-05-01\n",
            "성별               여\n",
            "dtype: object\n"
          ]
        }
      ]
    },
    {
      "cell_type": "code",
      "source": [
        "#DataFrame = Series X N\n",
        "dict_data = {'c0':[1,2,3],'c1':[4,5,6],'c2':[7,8,9]} #<- key는 열 index로 변환\n",
        "df = pd.DataFrame(dict_data)\n",
        "\n",
        "print(type(df))\n",
        "# print(df)"
      ],
      "metadata": {
        "colab": {
          "base_uri": "https://localhost:8080/"
        },
        "id": "BD1qDCEGfLaj",
        "outputId": "c3a2a4b3-7357-4ee3-ecd8-ca695126f13b"
      },
      "execution_count": null,
      "outputs": [
        {
          "output_type": "stream",
          "name": "stdout",
          "text": [
            "<class 'pandas.core.frame.DataFrame'>\n",
            "   c0  c1  c2\n",
            "0   1   4   7\n",
            "1   2   5   8\n",
            "2   3   6   9\n"
          ]
        }
      ]
    },
    {
      "cell_type": "code",
      "source": [
        "df = pd.DataFrame([[15,'남','덕영중'],[17,'여','수리중']],index=['준서','예은'], columns=['나이','성별','학교'])\n",
        "\n",
        "df.index = ['학생1','학생2']\n",
        "df.columns = ['연령','남녀','소속']\n",
        "\n",
        "print(df)"
      ],
      "metadata": {
        "colab": {
          "base_uri": "https://localhost:8080/"
        },
        "id": "7mxV9lhugUou",
        "outputId": "4ef8fb79-f659-4bad-892a-173802090a02"
      },
      "execution_count": null,
      "outputs": [
        {
          "output_type": "stream",
          "name": "stdout",
          "text": [
            "     연령 남녀   소속\n",
            "학생1  15  남  덕영중\n",
            "학생2  17  여  수리중\n"
          ]
        }
      ]
    },
    {
      "cell_type": "code",
      "source": [
        "df = pd.DataFrame([[15,'남','덕영중'],[17,'여','수리중']],index=['준서','예은'], columns=['나이','성별','학교'])\n",
        "\n",
        "df.rename(columns = {'나이':'연령','성별':'남녀', '학교':'소속'}, inplace=True) #기존:신규\n",
        "df.rename(index = {'준서':'학생1','예은':'학생2'}, inplace=True)\n",
        "\n",
        "print(df)"
      ],
      "metadata": {
        "colab": {
          "base_uri": "https://localhost:8080/"
        },
        "id": "VMsHVRDziZbf",
        "outputId": "0fba6748-15bf-433a-eb63-92f474d14ea0"
      },
      "execution_count": null,
      "outputs": [
        {
          "output_type": "stream",
          "name": "stdout",
          "text": [
            "     연령 남녀   소속\n",
            "학생1  15  남  덕영중\n",
            "학생2  17  여  수리중\n"
          ]
        }
      ]
    },
    {
      "cell_type": "markdown",
      "source": [
        "<행 삭제>"
      ],
      "metadata": {
        "id": "ZKrdIgppkrGT"
      }
    },
    {
      "cell_type": "code",
      "source": [
        "# DataFrame() 함수로 데이터프레임 변환. 변수 df에 저장\n",
        "exam_data = {'수학' : [ 90, 80, 70], '영어' : [ 98, 89, 95],\n",
        "             '음악' : [ 85, 95, 100], '체육' : [ 100, 90, 90]}\n",
        "\n",
        "df = pd.DataFrame(exam_data, index=['서준', '우현', '인아']) #행 인덱스 삽입\n",
        "print(df)\n",
        "print('\\n')\n",
        "\n",
        "# 데이터프레임 df를 복제하여 변수 df2에 저장. df2의 1개 행(row)을 삭제\n",
        "df2 = df[:]\n",
        "df2.drop('우현', inplace=True) #우현 행 삭제, axis=0 기본값\n",
        "print(df2)\n",
        "print('\\n')\n",
        "\n",
        "# # 데이터프레임 df를 복제하여 변수 df3에 저장. df3의 2개 행(row)을 삭제\n",
        "df3 = df[:]\n",
        "df3.drop(['우현', '인아'], axis=0, inplace=True)\n",
        "print(df3)"
      ],
      "metadata": {
        "colab": {
          "base_uri": "https://localhost:8080/"
        },
        "id": "9W23PpOgj_tp",
        "outputId": "ac97b137-786f-4700-a266-99522a25006d"
      },
      "execution_count": null,
      "outputs": [
        {
          "output_type": "stream",
          "name": "stdout",
          "text": [
            "    수학  영어   음악   체육\n",
            "서준  90  98   85  100\n",
            "우현  80  89   95   90\n",
            "인아  70  95  100   90\n",
            "\n",
            "\n",
            "    수학  영어   음악   체육\n",
            "서준  90  98   85  100\n",
            "인아  70  95  100   90\n",
            "\n",
            "\n",
            "    수학  영어  음악   체육\n",
            "서준  90  98  85  100\n"
          ]
        },
        {
          "output_type": "stream",
          "name": "stderr",
          "text": [
            "<ipython-input-19-be38ad53b40f>:11: SettingWithCopyWarning: \n",
            "A value is trying to be set on a copy of a slice from a DataFrame\n",
            "\n",
            "See the caveats in the documentation: https://pandas.pydata.org/pandas-docs/stable/user_guide/indexing.html#returning-a-view-versus-a-copy\n",
            "  df2.drop('우현', inplace=True) #우현 행 삭제, axis=0 기본값\n",
            "<ipython-input-19-be38ad53b40f>:17: SettingWithCopyWarning: \n",
            "A value is trying to be set on a copy of a slice from a DataFrame\n",
            "\n",
            "See the caveats in the documentation: https://pandas.pydata.org/pandas-docs/stable/user_guide/indexing.html#returning-a-view-versus-a-copy\n",
            "  df3.drop(['우현', '인아'], axis=0, inplace=True)\n"
          ]
        }
      ]
    },
    {
      "cell_type": "markdown",
      "source": [
        "<열 삭제>"
      ],
      "metadata": {
        "id": "fyrJf_eUkuS2"
      }
    },
    {
      "cell_type": "code",
      "source": [
        "# DataFrame() 함수로 데이터프레임 변환. 변수 df에 저장\n",
        "exam_data = {'수학' : [ 90, 80, 70], '영어' : [ 98, 89, 95],\n",
        "             '음악' : [ 85, 95, 100], '체육' : [ 100, 90, 90]}\n",
        "\n",
        "df = pd.DataFrame(exam_data, index=['서준', '우현', '인아'])\n",
        "print(df)\n",
        "print('\\n')\n",
        "\n",
        "# 데이터프레임 df를 복제하여 변수 df4에 저장. df4의 1개 열(column)을 삭제\n",
        "df4 = df.copy() # <- df[:]\n",
        "df4.drop('수학', axis=1, inplace=True)\n",
        "print(df4)\n",
        "print('\\n')\n",
        "\n",
        "# 데이터프레임 df를 복제하여 변수 df5에 저장. df5의 2개 열(column)을 삭제\n",
        "df5 = df.copy()\n",
        "df5.drop(['영어', '음악'], axis=1, inplace=True)\n",
        "print(df5)\n"
      ],
      "metadata": {
        "colab": {
          "base_uri": "https://localhost:8080/"
        },
        "id": "RdkY-k7skwUE",
        "outputId": "0437685f-f699-472d-ff73-94a290a8cdb7"
      },
      "execution_count": null,
      "outputs": [
        {
          "output_type": "stream",
          "name": "stdout",
          "text": [
            "    수학  영어   음악   체육\n",
            "서준  90  98   85  100\n",
            "우현  80  89   95   90\n",
            "인아  70  95  100   90\n",
            "\n",
            "\n",
            "    영어   음악   체육\n",
            "서준  98   85  100\n",
            "우현  89   95   90\n",
            "인아  95  100   90\n",
            "\n",
            "\n",
            "    수학   체육\n",
            "서준  90  100\n",
            "우현  80   90\n",
            "인아  70   90\n"
          ]
        }
      ]
    },
    {
      "cell_type": "code",
      "source": [
        "exam_data = {'수학' : [ 90, 80, 70], '영어' : [ 98, 89, 95],\n",
        "             '음악' : [ 85, 95, 100], '체육' : [ 100, 90, 90]}\n",
        "\n",
        "df = pd.DataFrame(exam_data, index=['서준', '우현', '인아'])\n",
        "print(df)       # 데이터프레임 출력\n",
        "print('\\n')\n",
        "\n",
        "# 행 인덱스를 사용하여 행 1개를 선택 <- df.loc['서준'] == df.iloc[0]\n",
        "label1 = df.loc['서준']    # loc 인덱스 활용\n",
        "position1 = df.iloc[0]     # iloc 인덱스 활용\n",
        "print(label1)\n",
        "print('\\n')\n",
        "print(position1)\n",
        "print('\\n')\n",
        "\n",
        "# 행 인덱스를 사용하여 2개 이상의 행 선택\n",
        "label2 = df.loc[['서준', '우현']]\n",
        "position2 = df.iloc[[0, 1]]\n",
        "print(label2)\n",
        "print('\\n')\n",
        "print(position2)\n",
        "print('\\n')\n",
        "\n",
        "# 행 인덱스의 범위를 지정하여 행 선택\n",
        "label3 = df.loc['서준':'우현']\n",
        "position3 = df.iloc[0:1]\n",
        "print(label3)\n",
        "print('\\n')\n",
        "print(position3)\n"
      ],
      "metadata": {
        "colab": {
          "base_uri": "https://localhost:8080/"
        },
        "id": "whv7y-UWl0pG",
        "outputId": "f8f4133c-be6c-42fb-9262-5ddee90ac409"
      },
      "execution_count": null,
      "outputs": [
        {
          "output_type": "stream",
          "name": "stdout",
          "text": [
            "    수학  영어   음악   체육\n",
            "서준  90  98   85  100\n",
            "우현  80  89   95   90\n",
            "인아  70  95  100   90\n",
            "\n",
            "\n",
            "수학     90\n",
            "영어     98\n",
            "음악     85\n",
            "체육    100\n",
            "Name: 서준, dtype: int64\n",
            "\n",
            "\n",
            "수학     90\n",
            "영어     98\n",
            "음악     85\n",
            "체육    100\n",
            "Name: 서준, dtype: int64\n",
            "\n",
            "\n",
            "    수학  영어  음악   체육\n",
            "서준  90  98  85  100\n",
            "우현  80  89  95   90\n",
            "\n",
            "\n",
            "    수학  영어  음악   체육\n",
            "서준  90  98  85  100\n",
            "우현  80  89  95   90\n",
            "\n",
            "\n",
            "    수학  영어  음악   체육\n",
            "서준  90  98  85  100\n",
            "우현  80  89  95   90\n",
            "\n",
            "\n",
            "    수학  영어  음악   체육\n",
            "서준  90  98  85  100\n"
          ]
        }
      ]
    },
    {
      "cell_type": "code",
      "source": [
        "# DataFrame() 함수로 데이터프레임 변환. 변수 df에 저장\n",
        "exam_data = {'이름' : [ '서준', '우현', '인아'],\n",
        "             '수학' : [ 90, 80, 70],\n",
        "             '영어' : [ 98, 89, 95],\n",
        "             '음악' : [ 85, 95, 100],\n",
        "             '체육' : [ 100, 90, 90]}\n",
        "df = pd.DataFrame(exam_data)\n",
        "print(df)\n",
        "print(type(df))\n",
        "print('\\n')\n",
        "\n",
        "# '수학' 점수 데이터만 선택. 변수 math1에 저장\n",
        "math1 = df['수학']\n",
        "print(math1)\n",
        "print(type(math1))\n",
        "print('\\n')\n",
        "\n",
        "# '영어' 점수 데이터만 선택. 변수 english에 저장\n",
        "english = df.영어\n",
        "print(english)\n",
        "print(type(english))\n",
        "print('\\n')\n",
        "\n",
        "# '음악', '체육' 점수 데이터를 선택. 변수 music_gym 에 저장\n",
        "music_gym = df[['음악', '체육']]\n",
        "print(music_gym)\n",
        "print(type(music_gym))\n",
        "print('\\n')\n",
        "\n",
        "# '수학' 점수 데이터만 선택. 변수 math2에 저장\n",
        "math2 = df[['수학']]\n",
        "print(math2)\n",
        "print(type(math2))"
      ],
      "metadata": {
        "colab": {
          "base_uri": "https://localhost:8080/"
        },
        "id": "WdqmceHSnApg",
        "outputId": "414ff936-2f92-433e-8649-7adeeacfc94f"
      },
      "execution_count": null,
      "outputs": [
        {
          "output_type": "stream",
          "name": "stdout",
          "text": [
            "   이름  수학  영어   음악   체육\n",
            "0  서준  90  98   85  100\n",
            "1  우현  80  89   95   90\n",
            "2  인아  70  95  100   90\n",
            "<class 'pandas.core.frame.DataFrame'>\n",
            "\n",
            "\n",
            "0    90\n",
            "1    80\n",
            "2    70\n",
            "Name: 수학, dtype: int64\n",
            "<class 'pandas.core.series.Series'>\n",
            "\n",
            "\n",
            "0    98\n",
            "1    89\n",
            "2    95\n",
            "Name: 영어, dtype: int64\n",
            "<class 'pandas.core.series.Series'>\n",
            "\n",
            "\n",
            "    음악   체육\n",
            "0   85  100\n",
            "1   95   90\n",
            "2  100   90\n",
            "<class 'pandas.core.frame.DataFrame'>\n",
            "\n",
            "\n",
            "   수학\n",
            "0  90\n",
            "1  80\n",
            "2  70\n",
            "<class 'pandas.core.frame.DataFrame'>\n"
          ]
        }
      ]
    },
    {
      "cell_type": "code",
      "source": [
        "# DataFrame() 함수로 데이터프레임 변환. 변수 df에 저장\n",
        "exam_data = {'이름' : [ '서준', '우현', '인아'],\n",
        "             '수학' : [ 90, 80, 70],\n",
        "             '영어' : [ 98, 89, 95],\n",
        "             '음악' : [ 85, 95, 100],\n",
        "             '체육' : [ 100, 90, 90]}\n",
        "df = pd.DataFrame(exam_data)\n",
        "\n",
        "# '이름' 열을 새로운 인덱스로 지정하고, df 객체에 변경사항 반영\n",
        "df.set_index('이름', inplace=True)\n",
        "print(df)\n",
        "print('\\n')\n",
        "\n",
        "# # 데이터프레임 df의 특정 원소 1개 선택 ('서준'의 '음악' 점수)\n",
        "a = df.loc['서준', '음악']\n",
        "print(a)\n",
        "b = df.iloc[0, 2]\n",
        "print(b)\n",
        "print('\\n')\n",
        "\n",
        "# 데이터프레임 df의 특정 원소 2개 이상 선택 ('서준'의 '음악', '체육' 점수)\n",
        "c = df.loc['서준', ['음악', '체육']]\n",
        "print(c)\n",
        "d = df.iloc[0, [2, 3]]\n",
        "print(d)\n",
        "e = df.loc['서준', '음악':'체육']\n",
        "print(e)\n",
        "f = df.iloc[0, 2:]\n",
        "print(f)\n",
        "print('\\n')\n",
        "\n",
        "# df의 2개 이상의 행과 열로부터 원소 선택 ('서준', '우현'의 '음악', '체육' 점수)\n",
        "g = df.loc[['서준', '우현'], ['음악', '체육']]\n",
        "print(g)\n",
        "h = df.iloc[[0, 1], [2, 3]]\n",
        "print(h)\n",
        "i = df.loc['서준':'우현', '음악':'체육']\n",
        "print(i)\n",
        "j = df.iloc[0:2, 2:]\n",
        "print(j)"
      ],
      "metadata": {
        "colab": {
          "base_uri": "https://localhost:8080/"
        },
        "id": "G-xpEio7qpHf",
        "outputId": "185699ee-e49e-46e1-9500-8347801e417d"
      },
      "execution_count": null,
      "outputs": [
        {
          "output_type": "stream",
          "name": "stdout",
          "text": [
            "    수학  영어   음악   체육\n",
            "이름                  \n",
            "서준  90  98   85  100\n",
            "우현  80  89   95   90\n",
            "인아  70  95  100   90\n",
            "\n",
            "\n",
            "85\n",
            "85\n",
            "\n",
            "\n",
            "음악     85\n",
            "체육    100\n",
            "Name: 서준, dtype: int64\n",
            "음악     85\n",
            "체육    100\n",
            "Name: 서준, dtype: int64\n",
            "음악     85\n",
            "체육    100\n",
            "Name: 서준, dtype: int64\n",
            "음악     85\n",
            "체육    100\n",
            "Name: 서준, dtype: int64\n",
            "\n",
            "\n",
            "    음악   체육\n",
            "이름         \n",
            "서준  85  100\n",
            "우현  95   90\n",
            "    음악   체육\n",
            "이름         \n",
            "서준  85  100\n",
            "우현  95   90\n",
            "    음악   체육\n",
            "이름         \n",
            "서준  85  100\n",
            "우현  95   90\n",
            "    음악   체육\n",
            "이름         \n",
            "서준  85  100\n",
            "우현  95   90\n"
          ]
        }
      ]
    },
    {
      "cell_type": "code",
      "source": [
        "exam_data = {'이름' : [ '서준', '우현', '인아'],\n",
        "             '수학' : [ 90, 80, 70],\n",
        "             '영어' : [ 98, 89, 95],\n",
        "             '음악' : [ 85, 95, 100],\n",
        "             '체육' : [ 100, 90, 90]}\n",
        "df = pd.DataFrame(exam_data)\n",
        "df.set_index('이름', inplace=True) #set_index()\n",
        "# g = df.loc[['서준', '우현'], ['음악','체육']]\n",
        "# h = df.iloc[[0,1],[2,3]]\n",
        "# i = df.loc['서준':'우현', '음악':'체육']\n",
        "# j = df.iloc[0:2, 2:]\n",
        "df['국어'] = 80 # 열 추가시 동일한 값 입력\n",
        "df.loc['동규'] = [90, 80, 70, 60, 95]\n",
        "df.iloc[0, 2:4] = 99, 99\n",
        "\n",
        "# ndf = df.set_index('음악')\n",
        "# df = df.transpose() #행/열 전환 <= df.T\n",
        "\n",
        "# df = df.reindex(['서준','우현','인아', 'r4','r5'], fill_value=55)\n",
        "df = df.reset_index()\n",
        "df.sort_index(ascending=False)\n",
        "df.sort_values(by='음악', ascending=False)"
      ],
      "metadata": {
        "id": "IxtF8J5dry3e",
        "colab": {
          "base_uri": "https://localhost:8080/",
          "height": 175
        },
        "outputId": "12ea7e85-cdae-4457-ffcb-fe62ac178922"
      },
      "execution_count": null,
      "outputs": [
        {
          "output_type": "execute_result",
          "data": {
            "text/plain": [
              "   이름  수학  영어   음악  체육  국어\n",
              "2  인아  70  95  100  90  80\n",
              "0  서준  90  98   99  99  80\n",
              "1  우현  80  89   95  90  80\n",
              "3  동규  90  80   70  60  95"
            ],
            "text/html": [
              "\n",
              "\n",
              "  <div id=\"df-47528086-ab98-4cc2-824d-9ad55912eeea\">\n",
              "    <div class=\"colab-df-container\">\n",
              "      <div>\n",
              "<style scoped>\n",
              "    .dataframe tbody tr th:only-of-type {\n",
              "        vertical-align: middle;\n",
              "    }\n",
              "\n",
              "    .dataframe tbody tr th {\n",
              "        vertical-align: top;\n",
              "    }\n",
              "\n",
              "    .dataframe thead th {\n",
              "        text-align: right;\n",
              "    }\n",
              "</style>\n",
              "<table border=\"1\" class=\"dataframe\">\n",
              "  <thead>\n",
              "    <tr style=\"text-align: right;\">\n",
              "      <th></th>\n",
              "      <th>이름</th>\n",
              "      <th>수학</th>\n",
              "      <th>영어</th>\n",
              "      <th>음악</th>\n",
              "      <th>체육</th>\n",
              "      <th>국어</th>\n",
              "    </tr>\n",
              "  </thead>\n",
              "  <tbody>\n",
              "    <tr>\n",
              "      <th>2</th>\n",
              "      <td>인아</td>\n",
              "      <td>70</td>\n",
              "      <td>95</td>\n",
              "      <td>100</td>\n",
              "      <td>90</td>\n",
              "      <td>80</td>\n",
              "    </tr>\n",
              "    <tr>\n",
              "      <th>0</th>\n",
              "      <td>서준</td>\n",
              "      <td>90</td>\n",
              "      <td>98</td>\n",
              "      <td>99</td>\n",
              "      <td>99</td>\n",
              "      <td>80</td>\n",
              "    </tr>\n",
              "    <tr>\n",
              "      <th>1</th>\n",
              "      <td>우현</td>\n",
              "      <td>80</td>\n",
              "      <td>89</td>\n",
              "      <td>95</td>\n",
              "      <td>90</td>\n",
              "      <td>80</td>\n",
              "    </tr>\n",
              "    <tr>\n",
              "      <th>3</th>\n",
              "      <td>동규</td>\n",
              "      <td>90</td>\n",
              "      <td>80</td>\n",
              "      <td>70</td>\n",
              "      <td>60</td>\n",
              "      <td>95</td>\n",
              "    </tr>\n",
              "  </tbody>\n",
              "</table>\n",
              "</div>\n",
              "      <button class=\"colab-df-convert\" onclick=\"convertToInteractive('df-47528086-ab98-4cc2-824d-9ad55912eeea')\"\n",
              "              title=\"Convert this dataframe to an interactive table.\"\n",
              "              style=\"display:none;\">\n",
              "\n",
              "  <svg xmlns=\"http://www.w3.org/2000/svg\" height=\"24px\"viewBox=\"0 0 24 24\"\n",
              "       width=\"24px\">\n",
              "    <path d=\"M0 0h24v24H0V0z\" fill=\"none\"/>\n",
              "    <path d=\"M18.56 5.44l.94 2.06.94-2.06 2.06-.94-2.06-.94-.94-2.06-.94 2.06-2.06.94zm-11 1L8.5 8.5l.94-2.06 2.06-.94-2.06-.94L8.5 2.5l-.94 2.06-2.06.94zm10 10l.94 2.06.94-2.06 2.06-.94-2.06-.94-.94-2.06-.94 2.06-2.06.94z\"/><path d=\"M17.41 7.96l-1.37-1.37c-.4-.4-.92-.59-1.43-.59-.52 0-1.04.2-1.43.59L10.3 9.45l-7.72 7.72c-.78.78-.78 2.05 0 2.83L4 21.41c.39.39.9.59 1.41.59.51 0 1.02-.2 1.41-.59l7.78-7.78 2.81-2.81c.8-.78.8-2.07 0-2.86zM5.41 20L4 18.59l7.72-7.72 1.47 1.35L5.41 20z\"/>\n",
              "  </svg>\n",
              "      </button>\n",
              "\n",
              "\n",
              "\n",
              "    <div id=\"df-ce78a0f0-c7d3-4aef-b9e1-18721d7af88b\">\n",
              "      <button class=\"colab-df-quickchart\" onclick=\"quickchart('df-ce78a0f0-c7d3-4aef-b9e1-18721d7af88b')\"\n",
              "              title=\"Suggest charts.\"\n",
              "              style=\"display:none;\">\n",
              "\n",
              "<svg xmlns=\"http://www.w3.org/2000/svg\" height=\"24px\"viewBox=\"0 0 24 24\"\n",
              "     width=\"24px\">\n",
              "    <g>\n",
              "        <path d=\"M19 3H5c-1.1 0-2 .9-2 2v14c0 1.1.9 2 2 2h14c1.1 0 2-.9 2-2V5c0-1.1-.9-2-2-2zM9 17H7v-7h2v7zm4 0h-2V7h2v10zm4 0h-2v-4h2v4z\"/>\n",
              "    </g>\n",
              "</svg>\n",
              "      </button>\n",
              "    </div>\n",
              "\n",
              "<style>\n",
              "  .colab-df-quickchart {\n",
              "    background-color: #E8F0FE;\n",
              "    border: none;\n",
              "    border-radius: 50%;\n",
              "    cursor: pointer;\n",
              "    display: none;\n",
              "    fill: #1967D2;\n",
              "    height: 32px;\n",
              "    padding: 0 0 0 0;\n",
              "    width: 32px;\n",
              "  }\n",
              "\n",
              "  .colab-df-quickchart:hover {\n",
              "    background-color: #E2EBFA;\n",
              "    box-shadow: 0px 1px 2px rgba(60, 64, 67, 0.3), 0px 1px 3px 1px rgba(60, 64, 67, 0.15);\n",
              "    fill: #174EA6;\n",
              "  }\n",
              "\n",
              "  [theme=dark] .colab-df-quickchart {\n",
              "    background-color: #3B4455;\n",
              "    fill: #D2E3FC;\n",
              "  }\n",
              "\n",
              "  [theme=dark] .colab-df-quickchart:hover {\n",
              "    background-color: #434B5C;\n",
              "    box-shadow: 0px 1px 3px 1px rgba(0, 0, 0, 0.15);\n",
              "    filter: drop-shadow(0px 1px 2px rgba(0, 0, 0, 0.3));\n",
              "    fill: #FFFFFF;\n",
              "  }\n",
              "</style>\n",
              "\n",
              "    <script>\n",
              "      async function quickchart(key) {\n",
              "        const containerElement = document.querySelector('#' + key);\n",
              "        const charts = await google.colab.kernel.invokeFunction(\n",
              "            'suggestCharts', [key], {});\n",
              "      }\n",
              "    </script>\n",
              "\n",
              "      <script>\n",
              "\n",
              "function displayQuickchartButton(domScope) {\n",
              "  let quickchartButtonEl =\n",
              "    domScope.querySelector('#df-ce78a0f0-c7d3-4aef-b9e1-18721d7af88b button.colab-df-quickchart');\n",
              "  quickchartButtonEl.style.display =\n",
              "    google.colab.kernel.accessAllowed ? 'block' : 'none';\n",
              "}\n",
              "\n",
              "        displayQuickchartButton(document);\n",
              "      </script>\n",
              "      <style>\n",
              "    .colab-df-container {\n",
              "      display:flex;\n",
              "      flex-wrap:wrap;\n",
              "      gap: 12px;\n",
              "    }\n",
              "\n",
              "    .colab-df-convert {\n",
              "      background-color: #E8F0FE;\n",
              "      border: none;\n",
              "      border-radius: 50%;\n",
              "      cursor: pointer;\n",
              "      display: none;\n",
              "      fill: #1967D2;\n",
              "      height: 32px;\n",
              "      padding: 0 0 0 0;\n",
              "      width: 32px;\n",
              "    }\n",
              "\n",
              "    .colab-df-convert:hover {\n",
              "      background-color: #E2EBFA;\n",
              "      box-shadow: 0px 1px 2px rgba(60, 64, 67, 0.3), 0px 1px 3px 1px rgba(60, 64, 67, 0.15);\n",
              "      fill: #174EA6;\n",
              "    }\n",
              "\n",
              "    [theme=dark] .colab-df-convert {\n",
              "      background-color: #3B4455;\n",
              "      fill: #D2E3FC;\n",
              "    }\n",
              "\n",
              "    [theme=dark] .colab-df-convert:hover {\n",
              "      background-color: #434B5C;\n",
              "      box-shadow: 0px 1px 3px 1px rgba(0, 0, 0, 0.15);\n",
              "      filter: drop-shadow(0px 1px 2px rgba(0, 0, 0, 0.3));\n",
              "      fill: #FFFFFF;\n",
              "    }\n",
              "  </style>\n",
              "\n",
              "      <script>\n",
              "        const buttonEl =\n",
              "          document.querySelector('#df-47528086-ab98-4cc2-824d-9ad55912eeea button.colab-df-convert');\n",
              "        buttonEl.style.display =\n",
              "          google.colab.kernel.accessAllowed ? 'block' : 'none';\n",
              "\n",
              "        async function convertToInteractive(key) {\n",
              "          const element = document.querySelector('#df-47528086-ab98-4cc2-824d-9ad55912eeea');\n",
              "          const dataTable =\n",
              "            await google.colab.kernel.invokeFunction('convertToInteractive',\n",
              "                                                     [key], {});\n",
              "          if (!dataTable) return;\n",
              "\n",
              "          const docLinkHtml = 'Like what you see? Visit the ' +\n",
              "            '<a target=\"_blank\" href=https://colab.research.google.com/notebooks/data_table.ipynb>data table notebook</a>'\n",
              "            + ' to learn more about interactive tables.';\n",
              "          element.innerHTML = '';\n",
              "          dataTable['output_type'] = 'display_data';\n",
              "          await google.colab.output.renderOutput(dataTable, element);\n",
              "          const docLink = document.createElement('div');\n",
              "          docLink.innerHTML = docLinkHtml;\n",
              "          element.appendChild(docLink);\n",
              "        }\n",
              "      </script>\n",
              "    </div>\n",
              "  </div>\n"
            ]
          },
          "metadata": {},
          "execution_count": 45
        }
      ]
    },
    {
      "cell_type": "code",
      "source": [
        "exam_data = {'이름' : [ '서준', '우현', '인아'],\n",
        "             '수학' : [ 90, 80, 70],\n",
        "             '영어' : [ 98, 89, 95],\n",
        "             '음악' : [ 85, 95, 100],\n",
        "             '체육' : [ 100, 90, 90]}\n",
        "df = pd.DataFrame(exam_data)\n",
        "print(df)\n",
        "print('\\n')\n",
        "\n",
        "# 특정 열(column)을 데이터프레임의 행 인덱스(index)로 설정\n",
        "ndf = df.set_index(['이름'])\n",
        "print(ndf)\n",
        "print('\\n')\n",
        "ndf2 = ndf.set_index('음악')\n",
        "print(ndf2)\n",
        "print('\\n')\n",
        "ndf3 = ndf.set_index(['수학', '음악'])\n",
        "print(ndf3)"
      ],
      "metadata": {
        "id": "8pkKIVIqL8b3"
      },
      "execution_count": null,
      "outputs": []
    },
    {
      "cell_type": "code",
      "source": [
        "exam_data = {'이름' : [ '서준', '우현', '인아'],\n",
        "             '수학' : [ 90, 80, 70],\n",
        "             '영어' : [ 98, 89, 95],\n",
        "             '음악' : [ 85, 95, 100],\n",
        "             '체육' : [ 100, 90, 90]}\n",
        "df = pd.DataFrame(exam_data)\n",
        "print(df)\n",
        "print('\\n')\n",
        "\n",
        "# 특정 열(column)을 데이터프레임의 행 인덱스(index)로 설정\n",
        "ndf = df.set_index(['이름'])\n",
        "print(ndf)\n",
        "print('\\n')\n",
        "ndf2 = ndf.set_index('음악')\n",
        "print(ndf2)\n",
        "print('\\n')\n",
        "ndf3 = ndf.set_index(['수학', '음악'])\n",
        "print(ndf3)"
      ],
      "metadata": {
        "id": "sf1m2yAabF9k"
      },
      "execution_count": null,
      "outputs": []
    },
    {
      "cell_type": "code",
      "source": [
        "# 딕셔서리를 정의\n",
        "dict_data = {'c0':[1,2,3], 'c1':[4,5,6], 'c2':[7,8,9], 'c3':[10,11,12], 'c4':[13,14,15]}\n",
        "\n",
        "# 딕셔서리를 데이터프레임으로 변환. 인덱스를 [r0, r1, r2]로 지정\n",
        "df = pd.DataFrame(dict_data, index=['r0', 'r1', 'r2'])\n",
        "print(df)\n",
        "print('\\n')\n",
        "\n",
        "# 인덱스를 [r0, r1, r2, r3, r4]로 재지정\n",
        "new_index = ['r0', 'r1', 'r2', 'r3', 'r4']\n",
        "ndf = df.reindex(new_index)\n",
        "print(ndf)\n",
        "print('\\n')\n",
        "\n",
        "# reindex로 발생한 NaN값을 숫자 0으로 채우기\n",
        "new_index = ['r0', 'r1', 'r2', 'r3', 'r4']\n",
        "ndf2 = df.reindex(new_index, fill_value=0)\n",
        "print(ndf2)"
      ],
      "metadata": {
        "id": "PIyHY2M_bKNL"
      },
      "execution_count": null,
      "outputs": []
    }
  ]
}