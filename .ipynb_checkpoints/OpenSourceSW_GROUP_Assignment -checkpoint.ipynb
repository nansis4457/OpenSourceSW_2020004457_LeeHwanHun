{
 "cells": [
  {
   "cell_type": "code",
   "execution_count": 60,
   "metadata": {},
   "outputs": [
    {
     "name": "stdout",
     "output_type": "stream",
     "text": [
      "Requirement already up-to-date: python-vlc in c:\\users\\lg\\anaconda3\\lib\\site-packages (3.0.18122)\n"
     ]
    }
   ],
   "source": [
    "!pip install --upgrade python-vlc"
   ]
  },
  {
   "cell_type": "code",
   "execution_count": 61,
   "metadata": {},
   "outputs": [
    {
     "name": "stdout",
     "output_type": "stream",
     "text": [
      "Name: python-vlc\n",
      "Version: 3.0.18122\n",
      "Summary: VLC bindings for python.\n",
      "Home-page: http://wiki.videolan.org/PythonBinding\n",
      "Author: Olivier Aubert\n",
      "Author-email: contact@olivieraubert.net\n",
      "License: LGPL-2.1+\n",
      "Location: c:\\users\\lg\\appdata\\local\\programs\\python\\python39\\lib\\site-packages\n",
      "Requires: \n",
      "Required-by: \n",
      "Note: you may need to restart the kernel to use updated packages.\n"
     ]
    }
   ],
   "source": [
    "pip show python-vlc"
   ]
  },
  {
   "cell_type": "code",
   "execution_count": 62,
   "metadata": {},
   "outputs": [
    {
     "name": "stdout",
     "output_type": "stream",
     "text": [
      "Requirement already up-to-date: pafy in c:\\users\\lg\\anaconda3\\lib\\site-packages (0.5.5)\n"
     ]
    }
   ],
   "source": [
    "!pip install --upgrade pafy"
   ]
  },
  {
   "cell_type": "code",
   "execution_count": 63,
   "metadata": {},
   "outputs": [
    {
     "name": "stdout",
     "output_type": "stream",
     "text": [
      "Name: pafy\n",
      "Version: 0.5.5\n",
      "Summary: Retrieve YouTube content and metadata\n",
      "Home-page: http://np1.github.io/pafy/\n",
      "Author: np1\n",
      "Author-email: np1nagev@gmail.com\n",
      "License: LGPLv3\n",
      "Location: c:\\users\\lg\\appdata\\local\\programs\\python\\python39\\lib\\site-packages\n",
      "Requires: \n",
      "Required-by: \n",
      "Note: you may need to restart the kernel to use updated packages.\n"
     ]
    }
   ],
   "source": [
    "pip show pafy"
   ]
  },
  {
   "cell_type": "code",
   "execution_count": 64,
   "metadata": {},
   "outputs": [
    {
     "ename": "ModuleNotFoundError",
     "evalue": "No module named 'video_sync'",
     "output_type": "error",
     "traceback": [
      "\u001b[1;31m---------------------------------------------------------------------------\u001b[0m",
      "\u001b[1;31mModuleNotFoundError\u001b[0m                       Traceback (most recent call last)",
      "Cell \u001b[1;32mIn[64], line 1\u001b[0m\n\u001b[1;32m----> 1\u001b[0m \u001b[38;5;28;01mfrom\u001b[39;00m \u001b[38;5;21;01mvideo_sync\u001b[39;00m\u001b[38;5;21;01m.\u001b[39;00m\u001b[38;5;21;01mmini_player\u001b[39;00m \u001b[38;5;28;01mimport\u001b[39;00m MiniPlayer\n\u001b[0;32m      2\u001b[0m MiniPlayer()\n",
      "\u001b[1;31mModuleNotFoundError\u001b[0m: No module named 'video_sync'"
     ]
    }
   ],
   "source": []
  }
 ],
 "metadata": {
  "kernelspec": {
   "display_name": "nansis",
   "language": "python",
   "name": "conda"
  },
  "language_info": {
   "codemirror_mode": {
    "name": "ipython",
    "version": 3
   },
   "file_extension": ".py",
   "mimetype": "text/x-python",
   "name": "python",
   "nbconvert_exporter": "python",
   "pygments_lexer": "ipython3",
   "version": "3.9.2"
  }
 },
 "nbformat": 4,
 "nbformat_minor": 4
}
